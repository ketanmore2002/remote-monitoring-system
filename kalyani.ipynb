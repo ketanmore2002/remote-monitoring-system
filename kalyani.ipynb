{
 "cells": [
  {
   "cell_type": "code",
   "execution_count": 1,
   "metadata": {},
   "outputs": [
    {
     "name": "stdout",
     "output_type": "stream",
     "text": [
      "200\n"
     ]
    }
   ],
   "source": [
    "import requests\n",
    "\n",
    "url = 'http://127.0.0.1:8000/create_node/'\n",
    "\n",
    "myobj = {\n",
    "    \"topic\" :\"django/mqtt\",\n",
    "    \"rms\": \"rms\",\n",
    "    \"pump_status\": \"ON\",\n",
    "    \"present_lpm\":2,\n",
    "    \"wattage\" : 2,\n",
    "    \"voltage\" : 2,\n",
    "    \"current\" : 2,\n",
    "    \"power\" : 2,\n",
    "    \"start_time\" : \"13:00\",\n",
    "    \"stop_time\" : \"15:00\",\n",
    "    \"signal_strength\" : 2\n",
    "}\n",
    "\n",
    "for i in range(10):\n",
    "    x = requests.post(url, json = myobj)\n",
    "\n",
    "print(x.status_code)"
   ]
  },
  {
   "cell_type": "code",
   "execution_count": null,
   "metadata": {},
   "outputs": [],
   "source": []
  }
 ],
 "metadata": {
  "kernelspec": {
   "display_name": "base",
   "language": "python",
   "name": "python3"
  },
  "language_info": {
   "codemirror_mode": {
    "name": "ipython",
    "version": 3
   },
   "file_extension": ".py",
   "mimetype": "text/x-python",
   "name": "python",
   "nbconvert_exporter": "python",
   "pygments_lexer": "ipython3",
   "version": "3.10.9"
  }
 },
 "nbformat": 4,
 "nbformat_minor": 2
}
